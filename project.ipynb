{
 "cells": [
  {
   "cell_type": "code",
   "execution_count": null,
   "metadata": {},
   "outputs": [],
   "source": [
    "import numpy as np\n",
    "import pandas as pd"
   ]
  },
  {
   "cell_type": "code",
   "execution_count": null,
   "metadata": {},
   "outputs": [],
   "source": [
    "df = pd.read_csv('data/Hotel_Reviews_Cleaned.csv')\n",
    "\n",
    "df.head()"
   ]
  },
  {
   "cell_type": "code",
   "execution_count": null,
   "metadata": {},
   "outputs": [],
   "source": [
    "# import re\n",
    "# from nltk.corpus import stopwords\n",
    "# from nltk.tokenize import word_tokenize\n",
    "\n",
    "# def preprocess_text(text):\n",
    "#   text = re.sub(r'\\d+', '', text)  # Remove numbers\n",
    "#   text = text.lower()  # Convert to lowercase\n",
    "#   text = re.sub(r'\\s+', ' ', text)  # Remove extra whitespaces\n",
    "#   text = ' '.join([word for word in word_tokenize(text) if word.isalpha() and word not in stopwords.words('english')])\n",
    "#   return text\n",
    "\n",
    "# df['Cleaned_Positive_Reviews'] = df['Positive_Review'].apply(preprocess_text)\n",
    "# df['Cleaned_Negative_Reviews'] = df['Negative_Review'].apply(preprocess_text)"
   ]
  },
  {
   "cell_type": "code",
   "execution_count": null,
   "metadata": {},
   "outputs": [],
   "source": [
    "# df.to_csv('data/Hotel_Reviews_Cleaned.csv', index=False)"
   ]
  },
  {
   "cell_type": "code",
   "execution_count": null,
   "metadata": {},
   "outputs": [],
   "source": [
    "df['Cleaned_Positive_Reviews'].fillna('', inplace=True)\n"
   ]
  },
  {
   "cell_type": "code",
   "execution_count": null,
   "metadata": {},
   "outputs": [],
   "source": [
    "df['Cleaned_Negative_Reviews'].fillna('', inplace=True)"
   ]
  },
  {
   "cell_type": "code",
   "execution_count": null,
   "metadata": {},
   "outputs": [],
   "source": [
    "positive_hotel_reviews = df.groupby('Hotel_Name')['Cleaned_Positive_Reviews'].apply(lambda x: ' '.join(x)).reset_index()"
   ]
  },
  {
   "cell_type": "code",
   "execution_count": null,
   "metadata": {},
   "outputs": [],
   "source": [
    "negative_hotel_reviews = df.groupby('Hotel_Name')['Cleaned_Negative_Reviews'].apply(lambda x: ' '.join(x)).reset_index()"
   ]
  },
  {
   "cell_type": "code",
   "execution_count": null,
   "metadata": {},
   "outputs": [],
   "source": [
    "from sklearn.feature_extraction.text import CountVectorizer\n",
    "\n",
    "def extract_top_keywords(text, n=5):\n",
    "  vectorizer = CountVectorizer()\n",
    "  X = vectorizer.fit_transform([text])\n",
    "  terms = vectorizer.get_feature_names_out()\n",
    "  keywords = [terms[i] for i in X.toarray().argsort()[0][-n:]][::-1]\n",
    "  return keywords\n",
    "\n",
    "positive_hotel_reviews['Top_Positive_Keywords'] = positive_hotel_reviews['Cleaned_Positive_Reviews'].apply(extract_top_keywords)\n",
    "negative_hotel_reviews['Top_Negative_Keywords'] = negative_hotel_reviews['Cleaned_Negative_Reviews'].apply(extract_top_keywords)"
   ]
  },
  {
   "cell_type": "code",
   "execution_count": null,
   "metadata": {},
   "outputs": [],
   "source": [
    "random_hotels = df['Hotel_Name'].sample(n=10).values\n",
    "\n",
    "print(\"List of Hotels:\\n\")\n",
    "print(random_hotels)\n",
    "print(\"*\"*50)\n",
    "\n",
    "selected_hotel = input(\"\\nEnter the name of the hotel: \")\n",
    "print(f\"\\nYou selected {selected_hotel}\")\n",
    "print(\"*\"*50)\n",
    "\n",
    "if selected_hotel in positive_hotel_reviews['Hotel_Name'].values:\n",
    "    top_positive_keywords = positive_hotel_reviews[positive_hotel_reviews['Hotel_Name'] == selected_hotel]['Top_Positive_Keywords'].values[0]\n",
    "    top_negative_keywords = negative_hotel_reviews[negative_hotel_reviews['Hotel_Name'] == selected_hotel]['Top_Negative_Keywords'].values[0]\n",
    "\n",
    "    keywords = list(set(top_positive_keywords + top_negative_keywords))\n",
    "\n",
    "    print(f\"\\nTop keywords for the hotel '{selected_hotel}':\\n\")\n",
    "    print(keywords)\n",
    "\n",
    "    selected_keyword = input(\"\\nEnter a keyword: \")\n",
    "    print(f\"\\nYou selected {selected_keyword}\")\n",
    "    print(\"*\"*50)\n",
    "\n",
    "    # Find the index of the selected hotel\n",
    "    selected_hotel_indexes_list = df.index[df['Hotel_Name'] == selected_hotel].to_list()\n",
    "\n",
    "    # Find reviews similar to the selected keyword within the specified hotel\n",
    "    similar_positive_reviews = []\n",
    "    similar_negative_reviews = []\n",
    "\n",
    "    if selected_keyword in keywords:\n",
    "        for i in selected_hotel_indexes_list:\n",
    "            pos_review = df.iloc[i]['Cleaned_Positive_Reviews']\n",
    "            neg_review = df.iloc[i]['Cleaned_Negative_Reviews']\n",
    "            if selected_keyword in df.iloc[i]['Cleaned_Positive_Reviews'] and selected_keyword in df.iloc[i]['Cleaned_Negative_Reviews']:\n",
    "                similar_positive_reviews.append(df.iloc[i]['Positive_Review'])\n",
    "                similar_negative_reviews.append(df.iloc[i]['Negative_Review'])\n",
    "            elif selected_keyword in df.iloc[i]['Cleaned_Positive_Reviews']:\n",
    "                similar_positive_reviews.append(df.iloc[i]['Positive_Review'])\n",
    "            elif selected_keyword in df.iloc[i]['Cleaned_Negative_Reviews']:\n",
    "                similar_negative_reviews.append(df.iloc[i]['Negative_Review'])\n",
    "            else:\n",
    "                continue\n",
    "        print(f\"\\n {len(similar_positive_reviews)}/{len(selected_hotel_indexes_list)} positive reviews contain the keyword '{selected_keyword}' for the hotel '{selected_hotel}':\\n\")\n",
    "        for review in similar_positive_reviews:\n",
    "            print(\"-\", review)\n",
    "\n",
    "        print(f\"\\n {len(similar_negative_reviews)}/{len(selected_hotel_indexes_list)} negative reviews contain the keyword '{selected_keyword}' for the hotel '{selected_hotel}':\\n\")\n",
    "        for review in similar_negative_reviews:\n",
    "            print(\"-\", review)\n",
    "    else:\n",
    "        print(\"Invalid keyword.\")\n",
    "else:\n",
    "    print(\"Invalid hotel name.\")"
   ]
  },
  {
   "cell_type": "markdown",
   "metadata": {},
   "source": [
    "### TF-IDF"
   ]
  },
  {
   "cell_type": "code",
   "execution_count": null,
   "metadata": {},
   "outputs": [],
   "source": [
    "from sklearn.feature_extraction.text import TfidfVectorizer\n",
    "\n",
    "# TF-IDF Vectorization for each hotel\n",
    "hotel_tfidf_matrices = {}\n",
    "for hotel_name, group in df.groupby('Hotel_Name'):\n",
    "  positive_vectorizer = TfidfVectorizer()\n",
    "  negative_vectorizer = TfidfVectorizer()\n",
    "  tfidf_matrix_positive = positive_vectorizer.fit_transform(group['Cleaned_Positive_Reviews'])\n",
    "  tfidf_matrix_negative = negative_vectorizer.fit_transform(group['Cleaned_Negative_Reviews'])\n",
    "  hotel_tfidf_matrices[hotel_name] = {'positive_vectorizer': positive_vectorizer, 'negative_vectorizer': negative_vectorizer , 'tfidf_matrix_positive': tfidf_matrix_positive, 'tfidf_matrix_negative': tfidf_matrix_negative}\n",
    "\n",
    "# Function to extract top keywords based on TF-IDF for a specific hotel\n",
    "def extract_top_keywords_for_hotel(document, hotel_name, top_n=5, positive=True):\n",
    "  positive_vectorizer = hotel_tfidf_matrices[hotel_name]['positive_vectorizer']\n",
    "  negative_vectorizer = hotel_tfidf_matrices[hotel_name]['negative_vectorizer']\n",
    "  \n",
    "  if positive:\n",
    "    tfidf_scores = positive_vectorizer.transform([document])\n",
    "    feature_names = positive_vectorizer.get_feature_names_out()\n",
    "    sorted_indices = tfidf_scores.indices[np.argsort(tfidf_scores.data)][::-1][:top_n]\n",
    "    keywords = [feature_names[idx] for idx in sorted_indices]\n",
    "    return keywords\n",
    "  else:\n",
    "    tfidf_scores = negative_vectorizer.transform([document])\n",
    "    feature_names = negative_vectorizer.get_feature_names_out()\n",
    "    sorted_indices = tfidf_scores.indices[np.argsort(tfidf_scores.data)][::-1][:top_n]\n",
    "    keywords = [feature_names[idx] for idx in sorted_indices]\n",
    "    return keywords"
   ]
  },
  {
   "cell_type": "code",
   "execution_count": null,
   "metadata": {},
   "outputs": [],
   "source": [
    "positive_hotel_reviews['Top_Positive_Keywords_TFIDF'] = positive_hotel_reviews.apply(lambda x: extract_top_keywords_for_hotel(x['Cleaned_Positive_Reviews'], x['Hotel_Name']), axis=1)\n",
    "negative_hotel_reviews['Top_Negative_Keywords_TFIDF'] = negative_hotel_reviews.apply(lambda x: extract_top_keywords_for_hotel(x['Cleaned_Negative_Reviews'], x['Hotel_Name'], positive=False), axis=1)"
   ]
  },
  {
   "cell_type": "markdown",
   "metadata": {},
   "source": [
    "### KeyBERT"
   ]
  },
  {
   "cell_type": "code",
   "execution_count": null,
   "metadata": {},
   "outputs": [],
   "source": [
    "from keybert import KeyBERT"
   ]
  },
  {
   "cell_type": "code",
   "execution_count": null,
   "metadata": {},
   "outputs": [],
   "source": [
    "kw_model = KeyBERT('all-mpnet-base-v2')"
   ]
  },
  {
   "cell_type": "code",
   "execution_count": null,
   "metadata": {},
   "outputs": [],
   "source": [
    "def extract_top_keywords_keybert(document, top_n=5):\n",
    "  keywords = kw_model.extract_keywords(document, keyphrase_ngram_range=(1, 1), stop_words='english', top_n=top_n)\n",
    "  return [keyword[0] for keyword in keywords]"
   ]
  },
  {
   "cell_type": "code",
   "execution_count": null,
   "metadata": {},
   "outputs": [],
   "source": [
    "positive_hotel_reviews['Top_Positive_Keywords_KeyBERT'] = positive_hotel_reviews['Cleaned_Positive_Reviews'].apply(extract_top_keywords_keybert)\n",
    "negative_hotel_reviews['Top_Negative_Keywords_KeyBERT'] = negative_hotel_reviews['Cleaned_Negative_Reviews'].apply(extract_top_keywords_keybert)"
   ]
  },
  {
   "cell_type": "code",
   "execution_count": null,
   "metadata": {},
   "outputs": [],
   "source": [
    "negative_hotel_reviews.head(15).to_excel('data/negative_hotel_reviews.xlsx', index=False)"
   ]
  },
  {
   "cell_type": "code",
   "execution_count": null,
   "metadata": {},
   "outputs": [],
   "source": []
  }
 ],
 "metadata": {
  "kernelspec": {
   "display_name": "base",
   "language": "python",
   "name": "python3"
  },
  "language_info": {
   "codemirror_mode": {
    "name": "ipython",
    "version": 3
   },
   "file_extension": ".py",
   "mimetype": "text/x-python",
   "name": "python",
   "nbconvert_exporter": "python",
   "pygments_lexer": "ipython3",
   "version": "3.9.7"
  },
  "orig_nbformat": 4
 },
 "nbformat": 4,
 "nbformat_minor": 2
}
